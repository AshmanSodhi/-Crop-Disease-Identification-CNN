{
 "cells": [
  {
   "cell_type": "code",
   "execution_count": 1,
   "id": "fab0913e",
   "metadata": {},
   "outputs": [],
   "source": [
    "import tensorflow as tf\n",
    "import pandas as pd\n",
    "import matplotlib.pyplot as plt\n",
    "import seaborn as sns\n",
    "from tensorflow.keras import models, layers"
   ]
  },
  {
   "cell_type": "code",
   "execution_count": 2,
   "id": "e35779a7",
   "metadata": {},
   "outputs": [],
   "source": [
    "train_files_healthy = \"crop-images/Train/Train/Healthy\"\n",
    "train_files_powdery = \"crop-images/Train/Train/Powdery\"\n",
    "train_files_rust = \"crop-images/Train/Train/Rust\"\n",
    "training_files = \"crop-images/Train/Train\"\n",
    "\n",
    "test_files_healthy = \"crop-images/Test/Test/Healthy\"\n",
    "test_files_powdery = \"crop-images/Test/Test/Powdery\"\n",
    "test_files_rust = \"crop-images/Test/Test/Rust\"\n",
    "test_files = \"crop-images/Test/Test\"\n",
    "\n",
    "valid_files_healthy = \"crop-images/Validation/Validation/Healthy\"\n",
    "valid_files_powdery = \"crop-images/Validation/Validation/Powdery\"\n",
    "valid_files_rust = \"crop-images/Validation/Validation/Rust\"\n",
    "valid_files = \"crop-images/Validation/Validation\""
   ]
  },
  {
   "cell_type": "code",
   "execution_count": 3,
   "id": "529e0c6f",
   "metadata": {},
   "outputs": [],
   "source": [
    "image_width = 4000\n",
    "image_height = 2672\n",
    "batch_size_const = 32"
   ]
  },
  {
   "cell_type": "code",
   "execution_count": 4,
   "id": "91daf688",
   "metadata": {},
   "outputs": [
    {
     "name": "stdout",
     "output_type": "stream",
     "text": [
      "Found 1322 files belonging to 3 classes.\n"
     ]
    }
   ],
   "source": [
    "dataset = tf.keras.preprocessing.image_dataset_from_directory(\n",
    "    training_files,\n",
    "    shuffle = True, \n",
    "    image_size = (image_width , image_height),\n",
    "    batch_size = batch_size_const)"
   ]
  },
  {
   "cell_type": "code",
   "execution_count": 5,
   "id": "863d1e21",
   "metadata": {},
   "outputs": [
    {
     "data": {
      "text/plain": [
       "['Healthy', 'Powdery', 'Rust']"
      ]
     },
     "execution_count": 5,
     "metadata": {},
     "output_type": "execute_result"
    }
   ],
   "source": [
    "class_names = dataset.class_names\n",
    "class_names"
   ]
  },
  {
   "cell_type": "code",
   "execution_count": 6,
   "id": "719f0389",
   "metadata": {},
   "outputs": [
    {
     "data": {
      "text/plain": [
       "42"
      ]
     },
     "execution_count": 6,
     "metadata": {},
     "output_type": "execute_result"
    }
   ],
   "source": [
    "len(dataset) #total batches"
   ]
  },
  {
   "cell_type": "code",
   "execution_count": null,
   "id": "b14a24fb",
   "metadata": {},
   "outputs": [],
   "source": [
    "for image_batch, label_batch in dataset.take(1):\n",
    "    print(image_batch.shape)\n",
    "    #print(label_batch.numpy()) #converted to array as it is a tensor"
   ]
  },
  {
   "cell_type": "code",
   "execution_count": null,
   "id": "c7025bd2",
   "metadata": {},
   "outputs": [],
   "source": []
  }
 ],
 "metadata": {
  "kernelspec": {
   "display_name": "Python 3 (ipykernel)",
   "language": "python",
   "name": "python3"
  },
  "language_info": {
   "codemirror_mode": {
    "name": "ipython",
    "version": 3
   },
   "file_extension": ".py",
   "mimetype": "text/x-python",
   "name": "python",
   "nbconvert_exporter": "python",
   "pygments_lexer": "ipython3",
   "version": "3.11.3"
  }
 },
 "nbformat": 4,
 "nbformat_minor": 5
}
